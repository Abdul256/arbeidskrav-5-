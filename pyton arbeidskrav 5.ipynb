{
 "cells": [
  {
   "cell_type": "code",
   "execution_count": 18,
   "id": "c9b37933-ebcd-4830-9597-6d2bed01c284",
   "metadata": {},
   "outputs": [
    {
     "data": {
      "text/plain": [
       "{x: 3868/1463, y: -6/77, z: 1139/1463}"
      ]
     },
     "execution_count": 18,
     "metadata": {},
     "output_type": "execute_result"
    }
   ],
   "source": [
    "import sympy as sp\n",
    "from sympy.solvers import solve\n",
    "x,y,z=sp.symbols(\"x y z\")\n",
    "symbols=[x,y,z]\n",
    "equations=[\n",
    "    sp.Eq(2*x+8*y+3*z,7),\n",
    "    sp.Eq(-3*x+15*y-14*z,-20),\n",
    "    sp.Eq(11*x-6*y+7*z,35)\n",
    "]\n",
    "\n",
    "solve (equations,symbols)"
   ]
  },
  {
   "cell_type": "code",
   "execution_count": 24,
   "id": "163cef88-d1d2-49ab-91b3-ae64e33d911a",
   "metadata": {},
   "outputs": [
    {
     "data": {
      "text/plain": [
       "{x: -1, y: 2}"
      ]
     },
     "execution_count": 24,
     "metadata": {},
     "output_type": "execute_result"
    }
   ],
   "source": [
    "# oppgave 1a\n",
    "x, y ,  = sp.symbols('x y ')\n",
    "symbols=[x, y,]\n",
    "equations=[\n",
    "    sp.Eq( 2*x + 4*y, 6),\n",
    "    sp.Eq( -2*x + 1*y, 4)\n",
    "]\n",
    "solve (equations, symbols)"
   ]
  },
  {
   "cell_type": "code",
   "execution_count": 19,
   "id": "a9632de5-772b-4c83-9303-ed659a18785b",
   "metadata": {},
   "outputs": [
    {
     "data": {
      "text/plain": [
       "[(-1, -1), (2, 5)]"
      ]
     },
     "execution_count": 19,
     "metadata": {},
     "output_type": "execute_result"
    }
   ],
   "source": [
    "#oppgave 1b\n",
    "import sympy as sp\n",
    "from sympy. solvers import solve\n",
    "x, y,  = sp.symbols ('x y ')\n",
    "symbols = [x, y,]\n",
    "equations =[\n",
    "    sp.Eq( 2 * x - 1*y, -1),\n",
    "    sp.Eq( x**2 + 1*x - 1*y, 1)\n",
    "]\n",
    "solve(equations, symbols)\n"
   ]
  },
  {
   "cell_type": "code",
   "execution_count": 20,
   "id": "4a036e13-a2b6-43a2-9754-3b99b60aadcb",
   "metadata": {},
   "outputs": [
    {
     "data": {
      "text/plain": [
       "{x: 4, y: 0}"
      ]
     },
     "execution_count": 20,
     "metadata": {},
     "output_type": "execute_result"
    }
   ],
   "source": [
    "#oppgave 2a \n",
    "import sympy as sp \n",
    "from sympy. solvers import solve \n",
    "\n",
    "x, y, = sp.symbols ('x y')\n",
    "symbols = [x, y, ]\n",
    "\n",
    "equations = [\n",
    "    sp.Eq( 3*x - 12, -6*y),\n",
    "    sp.Eq( 4*x - 8*y , 16)\n",
    "]\n",
    "solve(equations, symbols)\n",
    "\n"
   ]
  },
  {
   "cell_type": "code",
   "execution_count": 2,
   "id": "e3b4c842-7cf7-4f9b-8470-8861bef9456a",
   "metadata": {},
   "outputs": [
    {
     "ename": "ModuleNotFoundError",
     "evalue": "No module named 'sympy'",
     "output_type": "error",
     "traceback": [
      "\u001b[1;31m---------------------------------------------------------------------------\u001b[0m",
      "\u001b[1;31mModuleNotFoundError\u001b[0m                       Traceback (most recent call last)",
      "Cell \u001b[1;32mIn [2], line 2\u001b[0m\n\u001b[0;32m      1\u001b[0m \u001b[38;5;66;03m#oppgave 2b\u001b[39;00m\n\u001b[1;32m----> 2\u001b[0m \u001b[38;5;28;01mimport\u001b[39;00m \u001b[38;5;21;01msympy\u001b[39;00m \u001b[38;5;28;01mas\u001b[39;00m \u001b[38;5;21;01msp\u001b[39;00m \n\u001b[0;32m      3\u001b[0m \u001b[38;5;28;01mfrom\u001b[39;00m \u001b[38;5;21;01msympy\u001b[39;00m\u001b[38;5;21;01m.\u001b[39;00m solvers \u001b[38;5;28;01mimport\u001b[39;00m \u001b[38;5;21;01msolve\u001b[39;00m \n\u001b[0;32m      5\u001b[0m x, y, \u001b[38;5;241m=\u001b[39m sp\u001b[38;5;241m.\u001b[39msymbols (\u001b[38;5;124m'\u001b[39m\u001b[38;5;124mx y\u001b[39m\u001b[38;5;124m'\u001b[39m)\n",
      "\u001b[1;31mModuleNotFoundError\u001b[0m: No module named 'sympy'"
     ]
    }
   ],
   "source": [
    "#oppgave 2b\n",
    "import sympy as sp \n",
    "from sympy. solvers import solve \n",
    "\n",
    "x, y, = sp.symbols ('x y')\n",
    "symbols = [x, y, ]\n",
    "\n",
    "equations = [\n",
    "    sp.Eq(x**2 + 4*x -3, 3*y),\n",
    "    sp.Eq( x + 2*y, 8-x),\n",
    "]\n",
    "\n",
    "solve(equations, symbols)\n"
   ]
  },
  {
   "cell_type": "code",
   "execution_count": 3,
   "id": "41e17acb-da0d-47e9-b741-684c3220e9f0",
   "metadata": {},
   "outputs": [
    {
     "ename": "ModuleNotFoundError",
     "evalue": "No module named 'sympy'",
     "output_type": "error",
     "traceback": [
      "\u001b[1;31m---------------------------------------------------------------------------\u001b[0m",
      "\u001b[1;31mModuleNotFoundError\u001b[0m                       Traceback (most recent call last)",
      "Cell \u001b[1;32mIn [3], line 2\u001b[0m\n\u001b[0;32m      1\u001b[0m \u001b[38;5;66;03m# oppgave26\u001b[39;00m\n\u001b[1;32m----> 2\u001b[0m \u001b[38;5;28;01mimport\u001b[39;00m \u001b[38;5;21;01msympy\u001b[39;00m \u001b[38;5;28;01mas\u001b[39;00m \u001b[38;5;21;01msp\u001b[39;00m \n\u001b[0;32m      3\u001b[0m \u001b[38;5;28;01mfrom\u001b[39;00m \u001b[38;5;21;01msympy\u001b[39;00m\u001b[38;5;21;01m.\u001b[39;00m solvers \u001b[38;5;28;01mimport\u001b[39;00m \u001b[38;5;21;01msolve\u001b[39;00m \n\u001b[0;32m      4\u001b[0m x, y, \u001b[38;5;241m=\u001b[39m sp\u001b[38;5;241m.\u001b[39msymbols (\u001b[38;5;124m'\u001b[39m\u001b[38;5;124mx y\u001b[39m\u001b[38;5;124m'\u001b[39m)\n",
      "\u001b[1;31mModuleNotFoundError\u001b[0m: No module named 'sympy'"
     ]
    }
   ],
   "source": [
    "# oppgave26\n",
    "import sympy as sp \n",
    "from sympy. solvers import solve \n",
    "x, y, = sp.symbols ('x y')\n",
    "symbols = [x, y, ]\n",
    "\n",
    "equations = [\n",
    "    sp.Eq(x**2 + y**2 , 100 ),\n",
    "    sp.Eq( x**y - 36*y, 0),\n",
    "]\n",
    "\n",
    "solve(equations, symbols)\n",
    "\n",
    "\n"
   ]
  }
 ],
 "metadata": {
  "kernelspec": {
   "display_name": "Python 3.10.6 64-bit",
   "language": "python",
   "name": "python3"
  },
  "language_info": {
   "codemirror_mode": {
    "name": "ipython",
    "version": 3
   },
   "file_extension": ".py",
   "mimetype": "text/x-python",
   "name": "python",
   "nbconvert_exporter": "python",
   "pygments_lexer": "ipython3",
   "version": "3.10.6"
  },
  "vscode": {
   "interpreter": {
    "hash": "3196968d684371006099b3d55edeef8ed90365227a30deaef86e5d4aa8519be0"
   }
  }
 },
 "nbformat": 4,
 "nbformat_minor": 5
}
